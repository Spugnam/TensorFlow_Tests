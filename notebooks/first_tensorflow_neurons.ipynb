{
 "cells": [
  {
   "cell_type": "markdown",
   "metadata": {},
   "source": [
    "# First TensorFlow Neurons"
   ]
  },
  {
   "cell_type": "markdown",
   "metadata": {},
   "source": [
    "#### Load dependencies"
   ]
  },
  {
   "cell_type": "code",
   "execution_count": 16,
   "metadata": {},
   "outputs": [],
   "source": [
    "import numpy as np\n",
    "np.random.seed(42)\n",
    "import tensorflow as tf\n",
    "tf.set_random_seed(42)\n",
    "import matplotlib.pyplot as plt\n",
    "%matplotlib inline"
   ]
  },
  {
   "cell_type": "markdown",
   "metadata": {},
   "source": [
    "#### Set number of neurons"
   ]
  },
  {
   "cell_type": "code",
   "execution_count": 17,
   "metadata": {},
   "outputs": [],
   "source": [
    "n_input = 784\n",
    "n_dense = 128"
   ]
  },
  {
   "cell_type": "markdown",
   "metadata": {},
   "source": [
    "#### Define placeholder Tensor for simulated MNIST digits"
   ]
  },
  {
   "cell_type": "code",
   "execution_count": 18,
   "metadata": {},
   "outputs": [],
   "source": [
    "x = tf.placeholder(tf.float32, [None, n_input])"
   ]
  },
  {
   "cell_type": "markdown",
   "metadata": {},
   "source": [
    "#### Create Variable Tensors for neuron biases `b` and weight matrix `W`"
   ]
  },
  {
   "cell_type": "code",
   "execution_count": 19,
   "metadata": {},
   "outputs": [],
   "source": [
    "b = tf.Variable(tf.zeros([n_dense]))\n",
    "# W = tf.Variable(tf.random_uniform([n_input, n_dense])) # 1.\n",
    "# W = tf.Variable(tf.random_normal([n_input, n_dense])) # 2.\n",
    "W = tf.get_variable('W', [n_input, n_dense], \n",
    "                    initializer=tf.contrib.layers.xavier_initializer())"
   ]
  },
  {
   "cell_type": "markdown",
   "metadata": {},
   "source": [
    "#### Design the computational graph"
   ]
  },
  {
   "cell_type": "code",
   "execution_count": 20,
   "metadata": {},
   "outputs": [],
   "source": [
    "z = tf.add(tf.matmul(x, W), b)\n",
    "a = tf.sigmoid(z) # first with tf.sigmoid(), then stick with tf.tanh() or tf.nn.relu()"
   ]
  },
  {
   "cell_type": "markdown",
   "metadata": {},
   "source": [
    "#### Create op for variable initialization"
   ]
  },
  {
   "cell_type": "code",
   "execution_count": 21,
   "metadata": {},
   "outputs": [],
   "source": [
    "initializer_op = tf.global_variables_initializer()"
   ]
  },
  {
   "cell_type": "markdown",
   "metadata": {},
   "source": [
    "#### Execute the graph in a session"
   ]
  },
  {
   "cell_type": "code",
   "execution_count": 22,
   "metadata": {},
   "outputs": [],
   "source": [
    "with tf.Session() as session:\n",
    "    session.run(initializer_op)\n",
    "    \n",
    "    layer_output = session.run(a, {x: np.random.random([1, n_input])})"
   ]
  },
  {
   "cell_type": "code",
   "execution_count": 23,
   "metadata": {},
   "outputs": [
    {
     "data": {
      "text/plain": [
       "array([[0.18159772, 0.90845056, 0.58339179, 0.40085142, 0.4620058 ,\n",
       "        0.94728334, 0.1533514 , 0.58622983, 0.50588868, 0.61145424,\n",
       "        0.01811018, 0.87212391, 0.93211828, 0.56513318, 0.69665082,\n",
       "        0.92249938, 0.70723863, 0.15253904, 0.57628836, 0.60671505,\n",
       "        0.42413067, 0.73644424, 0.93436701, 0.92556851, 0.45083937,\n",
       "        0.11323805, 0.9848412 , 0.83889809, 0.12466268, 0.92084188,\n",
       "        0.86989636, 0.51883806, 0.59127544, 0.3990027 , 0.05476164,\n",
       "        0.33519724, 0.80285345, 0.00463202, 0.33349917, 0.39816869,\n",
       "        0.5373956 , 0.91985562, 0.34634599, 0.3469532 , 0.73750125,\n",
       "        0.45221794, 0.22460482, 0.45243952, 0.14085702, 0.17638699,\n",
       "        0.49836777, 0.41892545, 0.9148459 , 0.3623939 , 0.58058835,\n",
       "        0.63226429, 0.01309446, 0.66353737, 0.17803597, 0.96107032,\n",
       "        0.14866273, 0.41462412, 0.08534967, 0.99687425, 0.50219501,\n",
       "        0.59538502, 0.06707648, 0.74996047, 0.20990559, 0.89805429,\n",
       "        0.20513964, 0.19068772, 0.03654967, 0.47206695, 0.56484113,\n",
       "        0.06570864, 0.77552762, 0.45328883, 0.52439027, 0.44076275,\n",
       "        0.40076306, 0.55964033, 0.15524025, 0.18192813, 0.86178562,\n",
       "        0.94611546, 0.37330932, 0.27074467, 0.64399954, 0.40873417,\n",
       "        0.02538636, 0.1561526 , 0.71597223, 0.65892394, 0.02709599,\n",
       "        0.22197216, 0.2310748 , 0.67189274, 0.01971054, 0.10410858,\n",
       "        0.79991609, 0.17854466, 0.65274611, 0.23818278, 0.09944139,\n",
       "        0.24317219, 0.72226693, 0.85569647, 0.83021986, 0.39718353,\n",
       "        0.66808514, 0.2049843 , 0.29314773, 0.89633582, 0.01300192,\n",
       "        0.08550853, 0.20788626, 0.0265322 , 0.18143544, 0.58304156,\n",
       "        0.42142455, 0.89267171, 0.81744356, 0.34181735, 0.25942343,\n",
       "        0.37969241, 0.59029494, 0.26806364, 0.62414891, 0.40941165,\n",
       "        0.55204718, 0.43612653, 0.29446576, 0.94845331, 0.76360579,\n",
       "        0.14011318, 0.86846798, 0.4874312 , 0.89455223, 0.79985526,\n",
       "        0.4252135 , 0.02246931, 0.26867736, 0.54163421, 0.63347822,\n",
       "        0.25788769, 0.13935607, 0.83493024, 0.98440218, 0.52569018,\n",
       "        0.17167929, 0.27230733, 0.01839068, 0.91429881, 0.11775108,\n",
       "        0.57651648, 0.27405522, 0.554178  , 0.65142039, 0.8297418 ,\n",
       "        0.20642127, 0.01099583, 0.13688563, 0.90001864, 0.87389008,\n",
       "        0.5974131 , 0.60051686, 0.66503667, 0.17537128, 0.91441195,\n",
       "        0.41877052, 0.38313853, 0.51891771, 0.04696597, 0.16628337,\n",
       "        0.73803362, 0.08279867, 0.60315211, 0.24534911, 0.38929561,\n",
       "        0.28869374, 0.35567272, 0.71904591, 0.29712172, 0.56640464,\n",
       "        0.4760504 , 0.66367117, 0.93682974, 0.7325721 , 0.21494038,\n",
       "        0.03118314, 0.26226404, 0.59507793, 0.05142581, 0.49636625,\n",
       "        0.59684285, 0.33424389, 0.7709122 , 0.10659825, 0.07513778,\n",
       "        0.72818876, 0.49549132, 0.6884024 , 0.43482734, 0.24640203,\n",
       "        0.81910232, 0.79941588, 0.69469647, 0.27214514, 0.59023067,\n",
       "        0.3609739 , 0.09158207, 0.91731358, 0.13681863, 0.95023735,\n",
       "        0.44600577, 0.18513293, 0.54190095, 0.87294584, 0.73222489,\n",
       "        0.80656115, 0.65878337, 0.69227656, 0.84919565, 0.24966801,\n",
       "        0.48942496, 0.22120944, 0.98766801, 0.94405934, 0.03942681,\n",
       "        0.70557517, 0.92524832, 0.18057535, 0.56794523, 0.9154883 ,\n",
       "        0.03394598, 0.69742027, 0.29734901, 0.9243962 , 0.97105825,\n",
       "        0.94426649, 0.47421422, 0.86204265, 0.8445494 , 0.31910047,\n",
       "        0.82891547, 0.03700763, 0.59626988, 0.23000884, 0.12056689,\n",
       "        0.0769532 , 0.69628878, 0.33987496, 0.72476677, 0.06535634,\n",
       "        0.31529034, 0.53949129, 0.79072316, 0.3187525 , 0.62589138,\n",
       "        0.88597775, 0.61586319, 0.23295947, 0.02440078, 0.87009887,\n",
       "        0.02126941, 0.87470167, 0.52893713, 0.9390677 , 0.79878324,\n",
       "        0.99793411, 0.35071182, 0.76718829, 0.40193091, 0.47987562,\n",
       "        0.62750546, 0.87367711, 0.98408347, 0.76827341, 0.41776678,\n",
       "        0.421357  , 0.7375823 , 0.23877715, 0.11047411, 0.35462216,\n",
       "        0.28723899, 0.29630812, 0.23360775, 0.04209319, 0.01787393,\n",
       "        0.98772239, 0.42777313, 0.38432665, 0.67964728, 0.21825389,\n",
       "        0.94996118, 0.78634501, 0.089411  , 0.41758078, 0.87911831,\n",
       "        0.94473202, 0.46740151, 0.61341139, 0.16703395, 0.99116863,\n",
       "        0.2316717 , 0.94273177, 0.64964665, 0.60773679, 0.51268851,\n",
       "        0.23066981, 0.17652803, 0.22048621, 0.18643826, 0.77958447,\n",
       "        0.35012526, 0.05784268, 0.96910263, 0.88378588, 0.92775228,\n",
       "        0.99490782, 0.17389525, 0.39624202, 0.75823848, 0.69602062,\n",
       "        0.15389591, 0.81583312, 0.22444057, 0.22381761, 0.53697442,\n",
       "        0.59293993, 0.58008621, 0.09148684, 0.87746086, 0.26560004,\n",
       "        0.12951492, 0.88874808, 0.9556515 , 0.86212762, 0.80951607,\n",
       "        0.65524198, 0.55085737, 0.08698676, 0.40845321, 0.37268852,\n",
       "        0.25975378, 0.72342011, 0.49587574, 0.08104622, 0.2201832 ,\n",
       "        0.68325876, 0.07613086, 0.85120691, 0.49514653, 0.48058658,\n",
       "        0.59240778, 0.82468097, 0.34780921, 0.67801615, 0.56573196,\n",
       "        0.26702827, 0.87862999, 0.79742602, 0.65845183, 0.85058173,\n",
       "        0.8672942 , 0.70836298, 0.83701333, 0.69747146, 0.68014077,\n",
       "        0.61861138, 0.75271664, 0.15860511, 0.88087076, 0.87184353,\n",
       "        0.02924728, 0.82581675, 0.12886987, 0.33511885, 0.74350826,\n",
       "        0.1607599 , 0.81796702, 0.83213418, 0.50746773, 0.00638587,\n",
       "        0.28703813, 0.61692692, 0.98118618, 0.63181353, 0.25980358,\n",
       "        0.6340057 , 0.53998538, 0.7798454 , 0.10698064, 0.7610279 ,\n",
       "        0.54126658, 0.962992  , 0.34187217, 0.63262189, 0.93202811,\n",
       "        0.10250973, 0.93722849, 0.68788572, 0.06783706, 0.30096357,\n",
       "        0.70817209, 0.0673506 , 0.58217046, 0.34588306, 0.62091552,\n",
       "        0.04574203, 0.87153681, 0.97348897, 0.96887786, 0.74965183,\n",
       "        0.13008624, 0.7582632 , 0.02458692, 0.02212355, 0.32361022,\n",
       "        0.48864319, 0.77040742, 0.68329538, 0.44590271, 0.27362667,\n",
       "        0.9971245 , 0.4261813 , 0.45138702, 0.16362382, 0.79480955,\n",
       "        0.69368223, 0.22076961, 0.08238105, 0.6804993 , 0.65451121,\n",
       "        0.27325953, 0.95086356, 0.15105789, 0.4323348 , 0.94361592,\n",
       "        0.41972732, 0.63852595, 0.3975944 , 0.2742152 , 0.98397765,\n",
       "        0.40933401, 0.8940992 , 0.22995461, 0.2131047 , 0.03113408,\n",
       "        0.65166683, 0.36852634, 0.86435825, 0.47320991, 0.96819343,\n",
       "        0.18552552, 0.86862317, 0.77659685, 0.77092184, 0.84478323,\n",
       "        0.76102399, 0.62622032, 0.13124488, 0.03252618, 0.92084785,\n",
       "        0.61665031, 0.79653729, 0.48152235, 0.11730819, 0.12518579,\n",
       "        0.68556529, 0.43030589, 0.20052473, 0.49159455, 0.06420894,\n",
       "        0.5819714 , 0.2689934 , 0.7975591 , 0.31036196, 0.45522015,\n",
       "        0.01162054, 0.07244689, 0.39249356, 0.47993883, 0.60002055,\n",
       "        0.29166258, 0.69498189, 0.8601224 , 0.77985099, 0.03961883,\n",
       "        0.48050695, 0.10493018, 0.24204502, 0.98666259, 0.14249554,\n",
       "        0.49888815, 0.61815573, 0.70246497, 0.55964868, 0.00977085,\n",
       "        0.32646131, 0.51771164, 0.0878665 , 0.35062693, 0.03320311,\n",
       "        0.0785785 , 0.39692328, 0.13271575, 0.56754085, 0.68946497,\n",
       "        0.8005867 , 0.20015024, 0.16748258, 0.10456784, 0.63643025,\n",
       "        0.70647573, 0.03158614, 0.93621225, 0.05197128, 0.54129634,\n",
       "        0.70906052, 0.87096912, 0.71408693, 0.80172808, 0.33945019,\n",
       "        0.81482511, 0.08011485, 0.89481666, 0.54759238, 0.81729777,\n",
       "        0.45231828, 0.6435777 , 0.52640266, 0.73158952, 0.08162998,\n",
       "        0.06035208, 0.24710323, 0.15954468, 0.87178357, 0.21921399,\n",
       "        0.97586526, 0.33689579, 0.18211792, 0.78969851, 0.65870778,\n",
       "        0.49819572, 0.55536355, 0.71920178, 0.22845474, 0.99633392,\n",
       "        0.97479316, 0.65032569, 0.19954245, 0.68022824, 0.07219841,\n",
       "        0.0306525 , 0.25768289, 0.46262296, 0.86827251, 0.72716907,\n",
       "        0.74270652, 0.42549333, 0.34593499, 0.37103876, 0.98764956,\n",
       "        0.04010919, 0.8670315 , 0.57867541, 0.43861542, 0.72525766,\n",
       "        0.48666894, 0.87342324, 0.90070186, 0.42172093, 0.2768278 ,\n",
       "        0.59235033, 0.91236335, 0.21066219, 0.62296658, 0.63156022,\n",
       "        0.73311302, 0.13156769, 0.71582496, 0.90903252, 0.17968311,\n",
       "        0.23754332, 0.97139509, 0.18097695, 0.85438509, 0.49227786,\n",
       "        0.24723107, 0.8707499 , 0.44530526, 0.51481735, 0.35923337,\n",
       "        0.59295085, 0.16352387, 0.39108154, 0.96941232, 0.25813343,\n",
       "        0.65673666, 0.32519006, 0.77347313, 0.13087366, 0.96982105,\n",
       "        0.45378954, 0.23605046, 0.07349675, 0.16975791, 0.51977395,\n",
       "        0.33700318, 0.82888337, 0.43088752, 0.24871427, 0.61714499,\n",
       "        0.70677722, 0.16704191, 0.16761922, 0.03667143, 0.73640202,\n",
       "        0.66380453, 0.47463088, 0.84417045, 0.80567015, 0.58535436,\n",
       "        0.86827128, 0.20584121, 0.11191962, 0.26974961, 0.05708686,\n",
       "        0.53116953, 0.93660569, 0.03934354, 0.12210991, 0.45219903,\n",
       "        0.93387502, 0.3161561 , 0.50723481, 0.04157286, 0.1483432 ,\n",
       "        0.98663012, 0.9651187 , 0.00493998, 0.95181179, 0.63911994,\n",
       "        0.86791829, 0.45473986, 0.51559603, 0.48884658, 0.66686426,\n",
       "        0.13965125, 0.02997359, 0.30792994, 0.70468076, 0.20185345,\n",
       "        0.67343243, 0.96991205, 0.09390072, 0.67260212, 0.44375022,\n",
       "        0.86814225, 0.17714979, 0.69262595, 0.83811529, 0.94461422,\n",
       "        0.68324803, 0.49717476, 0.61784724, 0.86890498, 0.57060975,\n",
       "        0.03038706, 0.9309487 , 0.68952675, 0.67651339, 0.21567515,\n",
       "        0.65888547, 0.39386441, 0.65123298, 0.10659303, 0.6578453 ,\n",
       "        0.99941373, 0.04821204, 0.97717418, 0.40690796, 0.87075345,\n",
       "        0.78238548, 0.56701626, 0.73844921, 0.87851556, 0.40414032,\n",
       "        0.32703316, 0.66759339, 0.80784594, 0.76228513, 0.79781365,\n",
       "        0.43558331, 0.81783422, 0.12020906, 0.5444891 , 0.00575866,\n",
       "        0.32458583, 0.36646153, 0.39617269, 0.69546721, 0.3885581 ,\n",
       "        0.44869362, 0.23754413, 0.37325179, 0.22726963, 0.07319592,\n",
       "        0.60344859, 0.6682128 , 0.61949035, 0.46349404, 0.37978578,\n",
       "        0.86333365, 0.51908179, 0.47918188, 0.02564207, 0.34124783,\n",
       "        0.38019562, 0.39882278, 0.58017237, 0.53360255, 0.60790509,\n",
       "        0.76488326, 0.81298574, 0.71812308, 0.9555237 , 0.01823258,\n",
       "        0.19577799, 0.00756287, 0.64747471, 0.89803055, 0.2434823 ,\n",
       "        0.92703454, 0.06026739, 0.93443603, 0.35162269, 0.10142083,\n",
       "        0.48587176, 0.25677657, 0.2848729 , 0.30728996, 0.8030259 ,\n",
       "        0.53916128, 0.3113077 , 0.61033378, 0.71615067, 0.272624  ,\n",
       "        0.4135491 , 0.12188609, 0.18114935, 0.68111785, 0.18143835,\n",
       "        0.52516338, 0.70904626, 0.10687692, 0.56731222, 0.25656278,\n",
       "        0.96292688, 0.48354565, 0.80599255, 0.55022654, 0.04341253,\n",
       "        0.63315138, 0.95140334, 0.60161182, 0.81918886, 0.88420646,\n",
       "        0.22807977, 0.21204484, 0.61098099, 0.41102847, 0.8398613 ,\n",
       "        0.90002312, 0.35342138, 0.23687056, 0.78052552, 0.27480604,\n",
       "        0.82261432, 0.42373825, 0.6675499 , 0.09553531]])"
      ]
     },
     "execution_count": 23,
     "metadata": {},
     "output_type": "execute_result"
    }
   ],
   "source": [
    "np.random.random([1, n_input])"
   ]
  },
  {
   "cell_type": "code",
   "execution_count": null,
   "metadata": {},
   "outputs": [],
   "source": []
  },
  {
   "cell_type": "code",
   "execution_count": 24,
   "metadata": {},
   "outputs": [
    {
     "data": {
      "text/plain": [
       "array([[0.38855457, 0.56543493, 0.6205742 , 0.5869876 , 0.82707417,\n",
       "        0.63500696, 0.7172329 , 0.6697315 , 0.55522794, 0.55159485,\n",
       "        0.3480641 , 0.5923178 , 0.26603687, 0.5044899 , 0.5304906 ,\n",
       "        0.61638683, 0.4664783 , 0.51609397, 0.71523875, 0.29039958,\n",
       "        0.6276681 , 0.3470657 , 0.30999008, 0.41907445, 0.63860726,\n",
       "        0.52817744, 0.5502334 , 0.34753126, 0.28052175, 0.54952925,\n",
       "        0.61916625, 0.4309415 , 0.6311881 , 0.6499236 , 0.40792757,\n",
       "        0.58129233, 0.54686064, 0.21588057, 0.50787514, 0.41249272,\n",
       "        0.451805  , 0.6843084 , 0.1326627 , 0.34806648, 0.41301805,\n",
       "        0.26426166, 0.821973  , 0.58790624, 0.48393887, 0.3950745 ,\n",
       "        0.6827308 , 0.82666445, 0.7485814 , 0.532441  , 0.21515547,\n",
       "        0.6783057 , 0.6939559 , 0.7908618 , 0.24248773, 0.82245576,\n",
       "        0.6037494 , 0.25971133, 0.6578457 , 0.34846672, 0.6600476 ,\n",
       "        0.40602446, 0.52381253, 0.50729316, 0.1749379 , 0.59124124,\n",
       "        0.367423  , 0.23373826, 0.47103217, 0.519229  , 0.7266074 ,\n",
       "        0.33038738, 0.42684835, 0.7451898 , 0.82792866, 0.40379182,\n",
       "        0.50128496, 0.7497435 , 0.35890433, 0.77527946, 0.27543178,\n",
       "        0.57322115, 0.45358098, 0.432624  , 0.42249936, 0.5651066 ,\n",
       "        0.3738469 , 0.5939806 , 0.347361  , 0.76681316, 0.64342594,\n",
       "        0.41976815, 0.6632802 , 0.87391657, 0.78187084, 0.7075233 ,\n",
       "        0.5548677 , 0.4297549 , 0.6223601 , 0.45372307, 0.6054683 ,\n",
       "        0.40557742, 0.58029056, 0.4453702 , 0.48921326, 0.26719937,\n",
       "        0.68900824, 0.6423042 , 0.70009214, 0.7894692 , 0.13540101,\n",
       "        0.5632054 , 0.41996217, 0.69692147, 0.740078  , 0.75191903,\n",
       "        0.49560815, 0.5987867 , 0.55608994, 0.5320524 , 0.5313948 ,\n",
       "        0.5867966 , 0.44379732, 0.5387789 ]], dtype=float32)"
      ]
     },
     "execution_count": 24,
     "metadata": {},
     "output_type": "execute_result"
    }
   ],
   "source": [
    "layer_output"
   ]
  },
  {
   "cell_type": "code",
   "execution_count": 25,
   "metadata": {},
   "outputs": [
    {
     "data": {
      "image/png": "[encoded data removed]",
      "text/plain": [
       "<matplotlib.figure.Figure at 0x113ea35f8>"
      ]
     },
     "metadata": {},
     "output_type": "display_data"
    }
   ],
   "source": [
    "_ = plt.hist(np.transpose(layer_output))"
   ]
  },
  {
   "cell_type": "code",
   "execution_count": null,
   "metadata": {},
   "outputs": [],
   "source": []
  }
 ],
 "metadata": {
  "kernelspec": {
   "display_name": "Python 3",
   "language": "python",
   "name": "python3"
  },
  "language_info": {
   "codemirror_mode": {
    "name": "ipython",
    "version": 3
   },
   "file_extension": ".py",
   "mimetype": "text/x-python",
   "name": "python",
   "nbconvert_exporter": "python",
   "pygments_lexer": "ipython3",
   "version": "3.6.4"
  }
 },
 "nbformat": 4,
 "nbformat_minor": 2
}
