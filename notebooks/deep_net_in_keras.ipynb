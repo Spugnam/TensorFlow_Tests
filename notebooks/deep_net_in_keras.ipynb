{
 "cells": [
  {
   "cell_type": "markdown",
   "metadata": {},
   "source": [
    "# Deep Neural Network in Keras"
   ]
  },
  {
   "cell_type": "markdown",
   "metadata": {},
   "source": [
    "In this notebook, we improve on our [intermediate neural net](https://github.com/the-deep-learners/TensorFlow-LiveLessons/blob/master/notebooks/intermediate_net_in_keras.ipynb) from Lesson *2* by applying the theory we've covered since."
   ]
  },
  {
   "cell_type": "markdown",
   "metadata": {},
   "source": [
    "#### Set seed for reproducibility"
   ]
  },
  {
   "cell_type": "code",
   "execution_count": 1,
   "metadata": {},
   "outputs": [],
   "source": [
    "import numpy as np\n",
    "np.random.seed(42)"
   ]
  },
  {
   "cell_type": "markdown",
   "metadata": {},
   "source": [
    "#### Load dependencies"
   ]
  },
  {
   "cell_type": "code",
   "execution_count": 2,
   "metadata": {},
   "outputs": [
    {
     "name": "stderr",
     "output_type": "stream",
     "text": [
      "Using TensorFlow backend.\n"
     ]
    }
   ],
   "source": [
    "import keras\n",
    "from keras.datasets import mnist\n",
    "from keras.models import Sequential\n",
    "from keras.layers import Dense\n",
    "from keras.layers import Dropout # new!\n",
    "from keras.layers.normalization import BatchNormalization # new!\n",
    "from keras import regularizers # new! \n",
    "from keras.optimizers import SGD"
   ]
  },
  {
   "cell_type": "markdown",
   "metadata": {},
   "source": [
    "#### Load data"
   ]
  },
  {
   "cell_type": "code",
   "execution_count": 3,
   "metadata": {},
   "outputs": [],
   "source": [
    "(X_train, y_train), (X_test, y_test) = mnist.load_data()"
   ]
  },
  {
   "cell_type": "markdown",
   "metadata": {},
   "source": [
    "#### Preprocess data"
   ]
  },
  {
   "cell_type": "code",
   "execution_count": 4,
   "metadata": {},
   "outputs": [],
   "source": [
    "X_train = X_train.reshape(60000, 784).astype('float32')\n",
    "X_test = X_test.reshape(10000, 784).astype('float32')"
   ]
  },
  {
   "cell_type": "code",
   "execution_count": 5,
   "metadata": {},
   "outputs": [],
   "source": [
    "X_train /= 255\n",
    "X_test /= 255"
   ]
  },
  {
   "cell_type": "code",
   "execution_count": 6,
   "metadata": {},
   "outputs": [],
   "source": [
    "n_classes = 10\n",
    "y_train = keras.utils.to_categorical(y_train, n_classes)\n",
    "y_test = keras.utils.to_categorical(y_test, n_classes)"
   ]
  },
  {
   "cell_type": "markdown",
   "metadata": {},
   "source": [
    "#### Design neural network architecture"
   ]
  },
  {
   "cell_type": "code",
   "execution_count": 7,
   "metadata": {},
   "outputs": [],
   "source": [
    "model = Sequential()\n",
    "model.add(Dense(256, activation='relu', input_shape=(784,)))\n",
    "model.add(BatchNormalization())\n",
    "model.add(Dropout(0.8))\n",
    "model.add(Dense(256, activation='relu'))\n",
    "model.add(BatchNormalization())\n",
    "model.add(Dropout(0.8))\n",
    "model.add(Dense(256, activation='relu'))\n",
    "model.add(BatchNormalization())\n",
    "model.add(Dropout(0.8))\n",
    "model.add(Dense(256, activation='relu'))\n",
    "model.add(BatchNormalization())\n",
    "model.add(Dropout(0.8))\n",
    "model.add(Dense(256, activation='relu'))\n",
    "model.add(BatchNormalization())\n",
    "model.add(Dropout(0.8))\n",
    "model.add(Dense(256, activation='relu'))\n",
    "model.add(BatchNormalization())\n",
    "model.add(Dropout(0.8))\n",
    "model.add(Dense(256, activation='relu'))\n",
    "model.add(BatchNormalization())\n",
    "model.add(Dropout(0.8))\n",
    "model.add(Dense(256, activation='relu'))\n",
    "model.add(BatchNormalization())\n",
    "model.add(Dropout(0.8))\n",
    "model.add(Dense(256, activation='relu'))\n",
    "model.add(BatchNormalization())\n",
    "model.add(Dropout(0.8))\n",
    "model.add(Dense(10, activation='softmax'))"
   ]
  },
  {
   "cell_type": "code",
   "execution_count": 8,
   "metadata": {},
   "outputs": [
    {
     "name": "stdout",
     "output_type": "stream",
     "text": [
      "_________________________________________________________________\n",
      "Layer (type)                 Output Shape              Param #   \n",
      "=================================================================\n",
      "dense_1 (Dense)              (None, 256)               200960    \n",
      "_________________________________________________________________\n",
      "batch_normalization_1 (Batch (None, 256)               1024      \n",
      "_________________________________________________________________\n",
      "dropout_1 (Dropout)          (None, 256)               0         \n",
      "_________________________________________________________________\n",
      "dense_2 (Dense)              (None, 256)               65792     \n",
      "_________________________________________________________________\n",
      "batch_normalization_2 (Batch (None, 256)               1024      \n",
      "_________________________________________________________________\n",
      "dropout_2 (Dropout)          (None, 256)               0         \n",
      "_________________________________________________________________\n",
      "dense_3 (Dense)              (None, 256)               65792     \n",
      "_________________________________________________________________\n",
      "batch_normalization_3 (Batch (None, 256)               1024      \n",
      "_________________________________________________________________\n",
      "dropout_3 (Dropout)          (None, 256)               0         \n",
      "_________________________________________________________________\n",
      "dense_4 (Dense)              (None, 256)               65792     \n",
      "_________________________________________________________________\n",
      "batch_normalization_4 (Batch (None, 256)               1024      \n",
      "_________________________________________________________________\n",
      "dropout_4 (Dropout)          (None, 256)               0         \n",
      "_________________________________________________________________\n",
      "dense_5 (Dense)              (None, 256)               65792     \n",
      "_________________________________________________________________\n",
      "batch_normalization_5 (Batch (None, 256)               1024      \n",
      "_________________________________________________________________\n",
      "dropout_5 (Dropout)          (None, 256)               0         \n",
      "_________________________________________________________________\n",
      "dense_6 (Dense)              (None, 256)               65792     \n",
      "_________________________________________________________________\n",
      "batch_normalization_6 (Batch (None, 256)               1024      \n",
      "_________________________________________________________________\n",
      "dropout_6 (Dropout)          (None, 256)               0         \n",
      "_________________________________________________________________\n",
      "dense_7 (Dense)              (None, 256)               65792     \n",
      "_________________________________________________________________\n",
      "batch_normalization_7 (Batch (None, 256)               1024      \n",
      "_________________________________________________________________\n",
      "dropout_7 (Dropout)          (None, 256)               0         \n",
      "_________________________________________________________________\n",
      "dense_8 (Dense)              (None, 256)               65792     \n",
      "_________________________________________________________________\n",
      "batch_normalization_8 (Batch (None, 256)               1024      \n",
      "_________________________________________________________________\n",
      "dropout_8 (Dropout)          (None, 256)               0         \n",
      "_________________________________________________________________\n",
      "dense_9 (Dense)              (None, 256)               65792     \n",
      "_________________________________________________________________\n",
      "batch_normalization_9 (Batch (None, 256)               1024      \n",
      "_________________________________________________________________\n",
      "dropout_9 (Dropout)          (None, 256)               0         \n",
      "_________________________________________________________________\n",
      "dense_10 (Dense)             (None, 10)                2570      \n",
      "=================================================================\n",
      "Total params: 739,082\n",
      "Trainable params: 734,474\n",
      "Non-trainable params: 4,608\n",
      "_________________________________________________________________\n"
     ]
    }
   ],
   "source": [
    "model.summary()"
   ]
  },
  {
   "cell_type": "markdown",
   "metadata": {},
   "source": [
    "#### Configure model"
   ]
  },
  {
   "cell_type": "code",
   "execution_count": 9,
   "metadata": {},
   "outputs": [],
   "source": [
    "model.compile(loss='categorical_crossentropy', optimizer='adam', metrics=['accuracy'])"
   ]
  },
  {
   "cell_type": "markdown",
   "metadata": {},
   "source": [
    "#### Train!"
   ]
  },
  {
   "cell_type": "code",
   "execution_count": 10,
   "metadata": {},
   "outputs": [
    {
     "name": "stdout",
     "output_type": "stream",
     "text": [
      "Train on 60000 samples, validate on 10000 samples\n",
      "Epoch 1/400\n",
      "60000/60000 [==============================] - 33s 550us/step - loss: 3.1380 - acc: 0.1063 - val_loss: 2.3374 - val_acc: 0.1135\n",
      "Epoch 2/400\n",
      "60000/60000 [==============================] - 28s 460us/step - loss: 2.2695 - acc: 0.1448 - val_loss: 2.3905 - val_acc: 0.1135\n",
      "Epoch 3/400\n",
      "60000/60000 [==============================] - 26s 435us/step - loss: 2.1598 - acc: 0.1810 - val_loss: 2.4406 - val_acc: 0.1135\n",
      "Epoch 4/400\n",
      "60000/60000 [==============================] - 27s 445us/step - loss: 2.0922 - acc: 0.1975 - val_loss: 2.4517 - val_acc: 0.1135\n",
      "Epoch 5/400\n",
      "60000/60000 [==============================] - 27s 453us/step - loss: 2.0497 - acc: 0.2038 - val_loss: 2.5113 - val_acc: 0.1135\n",
      "Epoch 6/400\n",
      "60000/60000 [==============================] - 28s 470us/step - loss: 1.9987 - acc: 0.2091 - val_loss: 2.5814 - val_acc: 0.1135\n",
      "Epoch 7/400\n",
      "60000/60000 [==============================] - 29s 477us/step - loss: 1.9591 - acc: 0.2125 - val_loss: 2.6179 - val_acc: 0.1135\n",
      "Epoch 8/400\n",
      "60000/60000 [==============================] - 30s 498us/step - loss: 1.9216 - acc: 0.2185 - val_loss: 2.5358 - val_acc: 0.1136\n",
      "Epoch 9/400\n",
      "60000/60000 [==============================] - 30s 494us/step - loss: 1.8945 - acc: 0.2278 - val_loss: 2.5220 - val_acc: 0.1138\n",
      "Epoch 10/400\n",
      "60000/60000 [==============================] - 31s 513us/step - loss: 1.8663 - acc: 0.2387 - val_loss: 2.4780 - val_acc: 0.1031\n",
      "Epoch 11/400\n",
      "60000/60000 [==============================] - 31s 511us/step - loss: 1.8432 - acc: 0.2475 - val_loss: 2.4116 - val_acc: 0.1265\n",
      "Epoch 12/400\n",
      "60000/60000 [==============================] - 30s 499us/step - loss: 1.8225 - acc: 0.2542 - val_loss: 2.3703 - val_acc: 0.1536\n",
      "Epoch 13/400\n",
      "60000/60000 [==============================] - 30s 500us/step - loss: 1.8016 - acc: 0.2653 - val_loss: 2.2630 - val_acc: 0.1753\n",
      "Epoch 14/400\n",
      "60000/60000 [==============================] - 30s 500us/step - loss: 1.7802 - acc: 0.2717 - val_loss: 2.0319 - val_acc: 0.2008\n",
      "Epoch 15/400\n",
      "60000/60000 [==============================] - 26s 439us/step - loss: 1.7628 - acc: 0.2792 - val_loss: 1.8965 - val_acc: 0.2280\n",
      "Epoch 16/400\n",
      "60000/60000 [==============================] - 27s 453us/step - loss: 1.7509 - acc: 0.2838 - val_loss: 1.8352 - val_acc: 0.2652\n",
      "Epoch 17/400\n",
      "60000/60000 [==============================] - 27s 451us/step - loss: 1.7353 - acc: 0.2882 - val_loss: 1.7811 - val_acc: 0.2780\n",
      "Epoch 18/400\n",
      "60000/60000 [==============================] - 29s 479us/step - loss: 1.6989 - acc: 0.3101 - val_loss: 1.6163 - val_acc: 0.3010\n",
      "Epoch 19/400\n",
      "60000/60000 [==============================] - 30s 495us/step - loss: 1.6228 - acc: 0.3227 - val_loss: 1.5531 - val_acc: 0.2983\n",
      "Epoch 20/400\n",
      "60000/60000 [==============================] - 29s 481us/step - loss: 1.5802 - acc: 0.3344 - val_loss: 1.5317 - val_acc: 0.2847\n",
      "Epoch 21/400\n",
      "60000/60000 [==============================] - 29s 480us/step - loss: 1.5471 - acc: 0.3344 - val_loss: 1.4993 - val_acc: 0.3290\n",
      "Epoch 22/400\n",
      "60000/60000 [==============================] - 30s 492us/step - loss: 1.5180 - acc: 0.3434 - val_loss: 1.4330 - val_acc: 0.3252\n",
      "Epoch 23/400\n",
      "60000/60000 [==============================] - 30s 492us/step - loss: 1.4807 - acc: 0.3576 - val_loss: 1.3660 - val_acc: 0.3413\n",
      "Epoch 24/400\n",
      "60000/60000 [==============================] - 30s 496us/step - loss: 1.4464 - acc: 0.3719 - val_loss: 1.3031 - val_acc: 0.3865\n",
      "Epoch 25/400\n",
      "60000/60000 [==============================] - 30s 505us/step - loss: 1.4194 - acc: 0.3879 - val_loss: 1.2776 - val_acc: 0.4013\n",
      "Epoch 26/400\n",
      "60000/60000 [==============================] - 31s 525us/step - loss: 1.3870 - acc: 0.4043 - val_loss: 1.2383 - val_acc: 0.4340\n",
      "Epoch 27/400\n",
      "60000/60000 [==============================] - 31s 523us/step - loss: 1.3631 - acc: 0.4250 - val_loss: 1.1538 - val_acc: 0.5774\n",
      "Epoch 28/400\n",
      "60000/60000 [==============================] - 30s 503us/step - loss: 1.3221 - acc: 0.4528 - val_loss: 1.0951 - val_acc: 0.5684\n",
      "Epoch 29/400\n",
      "60000/60000 [==============================] - 30s 500us/step - loss: 1.2846 - acc: 0.4736 - val_loss: 1.0131 - val_acc: 0.6036\n",
      "Epoch 30/400\n",
      "60000/60000 [==============================] - 31s 518us/step - loss: 1.2581 - acc: 0.4867 - val_loss: 0.9716 - val_acc: 0.6234\n",
      "Epoch 31/400\n",
      "60000/60000 [==============================] - 31s 514us/step - loss: 1.2326 - acc: 0.5013 - val_loss: 0.9350 - val_acc: 0.6534\n",
      "Epoch 32/400\n",
      "60000/60000 [==============================] - 33s 547us/step - loss: 1.2115 - acc: 0.5097 - val_loss: 0.9047 - val_acc: 0.6374\n",
      "Epoch 33/400\n",
      "60000/60000 [==============================] - 31s 520us/step - loss: 1.1902 - acc: 0.5191 - val_loss: 0.8798 - val_acc: 0.7185\n",
      "Epoch 34/400\n",
      "60000/60000 [==============================] - 31s 521us/step - loss: 1.1782 - acc: 0.5268 - val_loss: 0.8719 - val_acc: 0.7259\n",
      "Epoch 35/400\n",
      "60000/60000 [==============================] - 29s 481us/step - loss: 1.1626 - acc: 0.5325 - val_loss: 0.8527 - val_acc: 0.7230\n",
      "Epoch 36/400\n",
      "60000/60000 [==============================] - 28s 473us/step - loss: 1.1504 - acc: 0.5337 - val_loss: 0.8387 - val_acc: 0.6980\n",
      "Epoch 37/400\n",
      "60000/60000 [==============================] - 27s 451us/step - loss: 1.1442 - acc: 0.5386 - val_loss: 0.8333 - val_acc: 0.7460\n",
      "Epoch 38/400\n",
      "60000/60000 [==============================] - 29s 477us/step - loss: 1.1313 - acc: 0.5462 - val_loss: 0.8373 - val_acc: 0.7322\n",
      "Epoch 39/400\n",
      "60000/60000 [==============================] - 30s 493us/step - loss: 1.1238 - acc: 0.5509 - val_loss: 0.8150 - val_acc: 0.7410\n",
      "Epoch 40/400\n",
      "60000/60000 [==============================] - 27s 457us/step - loss: 1.1075 - acc: 0.5588 - val_loss: 0.8084 - val_acc: 0.7297\n",
      "Epoch 41/400\n",
      "60000/60000 [==============================] - 28s 459us/step - loss: 1.1017 - acc: 0.5603 - val_loss: 0.7893 - val_acc: 0.7422\n",
      "Epoch 42/400\n",
      "60000/60000 [==============================] - 29s 482us/step - loss: 1.0783 - acc: 0.5690 - val_loss: 0.7647 - val_acc: 0.7222\n",
      "Epoch 43/400\n",
      "60000/60000 [==============================] - 29s 490us/step - loss: 1.0772 - acc: 0.5738 - val_loss: 0.7620 - val_acc: 0.7469\n",
      "Epoch 44/400\n",
      "60000/60000 [==============================] - 28s 467us/step - loss: 1.0755 - acc: 0.5730 - val_loss: 0.7510 - val_acc: 0.7442\n",
      "Epoch 45/400\n",
      "60000/60000 [==============================] - 29s 476us/step - loss: 1.0603 - acc: 0.5792 - val_loss: 0.7547 - val_acc: 0.7532\n",
      "Epoch 46/400\n",
      "60000/60000 [==============================] - 30s 495us/step - loss: 1.0490 - acc: 0.5880 - val_loss: 0.7381 - val_acc: 0.7461\n",
      "Epoch 47/400\n",
      "60000/60000 [==============================] - 38s 631us/step - loss: 1.0434 - acc: 0.5916 - val_loss: 0.7293 - val_acc: 0.7315\n",
      "Epoch 48/400\n",
      "60000/60000 [==============================] - 34s 560us/step - loss: 1.0313 - acc: 0.5954 - val_loss: 0.7243 - val_acc: 0.7348\n",
      "Epoch 49/400\n",
      "60000/60000 [==============================] - 30s 505us/step - loss: 1.0228 - acc: 0.6017 - val_loss: 0.7249 - val_acc: 0.7651\n",
      "Epoch 50/400\n",
      "60000/60000 [==============================] - 29s 484us/step - loss: 1.0084 - acc: 0.6057 - val_loss: 0.6918 - val_acc: 0.7406\n",
      "Epoch 51/400\n",
      "60000/60000 [==============================] - 26s 431us/step - loss: 1.0019 - acc: 0.6093 - val_loss: 0.6960 - val_acc: 0.7594\n",
      "Epoch 52/400\n",
      "60000/60000 [==============================] - 25s 412us/step - loss: 0.9917 - acc: 0.6153 - val_loss: 0.6742 - val_acc: 0.7502\n",
      "Epoch 53/400\n",
      "60000/60000 [==============================] - 25s 417us/step - loss: 0.9876 - acc: 0.6171 - val_loss: 0.6778 - val_acc: 0.7564\n",
      "Epoch 54/400\n",
      "60000/60000 [==============================] - 25s 409us/step - loss: 0.9762 - acc: 0.6253 - val_loss: 0.6679 - val_acc: 0.7512\n",
      "Epoch 55/400\n",
      "60000/60000 [==============================] - 25s 423us/step - loss: 0.9782 - acc: 0.6250 - val_loss: 0.6678 - val_acc: 0.7643\n",
      "Epoch 56/400\n",
      "60000/60000 [==============================] - 25s 413us/step - loss: 0.9605 - acc: 0.6331 - val_loss: 0.6643 - val_acc: 0.7485\n",
      "Epoch 57/400\n",
      "60000/60000 [==============================] - 24s 399us/step - loss: 0.9548 - acc: 0.6356 - val_loss: 0.6448 - val_acc: 0.7692\n",
      "Epoch 58/400\n",
      "60000/60000 [==============================] - 25s 424us/step - loss: 0.9476 - acc: 0.6387 - val_loss: 0.6521 - val_acc: 0.7867\n"
     ]
    },
    {
     "name": "stdout",
     "output_type": "stream",
     "text": [
      "Epoch 59/400\n",
      "12800/60000 [=====>........................] - ETA: 18s - loss: 0.9461 - acc: 0.6420"
     ]
    },
    {
     "ename": "KeyboardInterrupt",
     "evalue": "",
     "output_type": "error",
     "traceback": [
      "\u001b[0;31m---------------------------------------------------------------------------\u001b[0m",
      "\u001b[0;31mKeyboardInterrupt\u001b[0m                         Traceback (most recent call last)",
      "\u001b[0;32m<ipython-input-10-b9695b5d696a>\u001b[0m in \u001b[0;36m<module>\u001b[0;34m()\u001b[0m\n\u001b[0;32m----> 1\u001b[0;31m \u001b[0mmodel\u001b[0m\u001b[0;34m.\u001b[0m\u001b[0mfit\u001b[0m\u001b[0;34m(\u001b[0m\u001b[0mX_train\u001b[0m\u001b[0;34m,\u001b[0m \u001b[0my_train\u001b[0m\u001b[0;34m,\u001b[0m \u001b[0mbatch_size\u001b[0m\u001b[0;34m=\u001b[0m\u001b[0;36m128\u001b[0m\u001b[0;34m,\u001b[0m \u001b[0mepochs\u001b[0m\u001b[0;34m=\u001b[0m\u001b[0;36m400\u001b[0m\u001b[0;34m,\u001b[0m \u001b[0mverbose\u001b[0m\u001b[0;34m=\u001b[0m\u001b[0;36m1\u001b[0m\u001b[0;34m,\u001b[0m \u001b[0mvalidation_data\u001b[0m\u001b[0;34m=\u001b[0m\u001b[0;34m(\u001b[0m\u001b[0mX_test\u001b[0m\u001b[0;34m,\u001b[0m \u001b[0my_test\u001b[0m\u001b[0;34m)\u001b[0m\u001b[0;34m)\u001b[0m\u001b[0;34m\u001b[0m\u001b[0m\n\u001b[0m",
      "\u001b[0;32m/usr/local/lib/python3.6/site-packages/keras/models.py\u001b[0m in \u001b[0;36mfit\u001b[0;34m(self, x, y, batch_size, epochs, verbose, callbacks, validation_split, validation_data, shuffle, class_weight, sample_weight, initial_epoch, steps_per_epoch, validation_steps, **kwargs)\u001b[0m\n\u001b[1;32m    961\u001b[0m                               \u001b[0minitial_epoch\u001b[0m\u001b[0;34m=\u001b[0m\u001b[0minitial_epoch\u001b[0m\u001b[0;34m,\u001b[0m\u001b[0;34m\u001b[0m\u001b[0m\n\u001b[1;32m    962\u001b[0m                               \u001b[0msteps_per_epoch\u001b[0m\u001b[0;34m=\u001b[0m\u001b[0msteps_per_epoch\u001b[0m\u001b[0;34m,\u001b[0m\u001b[0;34m\u001b[0m\u001b[0m\n\u001b[0;32m--> 963\u001b[0;31m                               validation_steps=validation_steps)\n\u001b[0m\u001b[1;32m    964\u001b[0m \u001b[0;34m\u001b[0m\u001b[0m\n\u001b[1;32m    965\u001b[0m     def evaluate(self, x=None, y=None,\n",
      "\u001b[0;32m/usr/local/lib/python3.6/site-packages/keras/engine/training.py\u001b[0m in \u001b[0;36mfit\u001b[0;34m(self, x, y, batch_size, epochs, verbose, callbacks, validation_split, validation_data, shuffle, class_weight, sample_weight, initial_epoch, steps_per_epoch, validation_steps, **kwargs)\u001b[0m\n\u001b[1;32m   1703\u001b[0m                               \u001b[0minitial_epoch\u001b[0m\u001b[0;34m=\u001b[0m\u001b[0minitial_epoch\u001b[0m\u001b[0;34m,\u001b[0m\u001b[0;34m\u001b[0m\u001b[0m\n\u001b[1;32m   1704\u001b[0m                               \u001b[0msteps_per_epoch\u001b[0m\u001b[0;34m=\u001b[0m\u001b[0msteps_per_epoch\u001b[0m\u001b[0;34m,\u001b[0m\u001b[0;34m\u001b[0m\u001b[0m\n\u001b[0;32m-> 1705\u001b[0;31m                               validation_steps=validation_steps)\n\u001b[0m\u001b[1;32m   1706\u001b[0m \u001b[0;34m\u001b[0m\u001b[0m\n\u001b[1;32m   1707\u001b[0m     def evaluate(self, x=None, y=None,\n",
      "\u001b[0;32m/usr/local/lib/python3.6/site-packages/keras/engine/training.py\u001b[0m in \u001b[0;36m_fit_loop\u001b[0;34m(self, f, ins, out_labels, batch_size, epochs, verbose, callbacks, val_f, val_ins, shuffle, callback_metrics, initial_epoch, steps_per_epoch, validation_steps)\u001b[0m\n\u001b[1;32m   1233\u001b[0m                         \u001b[0mins_batch\u001b[0m\u001b[0;34m[\u001b[0m\u001b[0mi\u001b[0m\u001b[0;34m]\u001b[0m \u001b[0;34m=\u001b[0m \u001b[0mins_batch\u001b[0m\u001b[0;34m[\u001b[0m\u001b[0mi\u001b[0m\u001b[0;34m]\u001b[0m\u001b[0;34m.\u001b[0m\u001b[0mtoarray\u001b[0m\u001b[0;34m(\u001b[0m\u001b[0;34m)\u001b[0m\u001b[0;34m\u001b[0m\u001b[0m\n\u001b[1;32m   1234\u001b[0m \u001b[0;34m\u001b[0m\u001b[0m\n\u001b[0;32m-> 1235\u001b[0;31m                     \u001b[0mouts\u001b[0m \u001b[0;34m=\u001b[0m \u001b[0mf\u001b[0m\u001b[0;34m(\u001b[0m\u001b[0mins_batch\u001b[0m\u001b[0;34m)\u001b[0m\u001b[0;34m\u001b[0m\u001b[0m\n\u001b[0m\u001b[1;32m   1236\u001b[0m                     \u001b[0;32mif\u001b[0m \u001b[0;32mnot\u001b[0m \u001b[0misinstance\u001b[0m\u001b[0;34m(\u001b[0m\u001b[0mouts\u001b[0m\u001b[0;34m,\u001b[0m \u001b[0mlist\u001b[0m\u001b[0;34m)\u001b[0m\u001b[0;34m:\u001b[0m\u001b[0;34m\u001b[0m\u001b[0m\n\u001b[1;32m   1237\u001b[0m                         \u001b[0mouts\u001b[0m \u001b[0;34m=\u001b[0m \u001b[0;34m[\u001b[0m\u001b[0mouts\u001b[0m\u001b[0;34m]\u001b[0m\u001b[0;34m\u001b[0m\u001b[0m\n",
      "\u001b[0;32m/usr/local/lib/python3.6/site-packages/keras/backend/tensorflow_backend.py\u001b[0m in \u001b[0;36m__call__\u001b[0;34m(self, inputs)\u001b[0m\n\u001b[1;32m   2476\u001b[0m         \u001b[0msession\u001b[0m \u001b[0;34m=\u001b[0m \u001b[0mget_session\u001b[0m\u001b[0;34m(\u001b[0m\u001b[0;34m)\u001b[0m\u001b[0;34m\u001b[0m\u001b[0m\n\u001b[1;32m   2477\u001b[0m         updated = session.run(fetches=fetches, feed_dict=feed_dict,\n\u001b[0;32m-> 2478\u001b[0;31m                               **self.session_kwargs)\n\u001b[0m\u001b[1;32m   2479\u001b[0m         \u001b[0;32mreturn\u001b[0m \u001b[0mupdated\u001b[0m\u001b[0;34m[\u001b[0m\u001b[0;34m:\u001b[0m\u001b[0mlen\u001b[0m\u001b[0;34m(\u001b[0m\u001b[0mself\u001b[0m\u001b[0;34m.\u001b[0m\u001b[0moutputs\u001b[0m\u001b[0;34m)\u001b[0m\u001b[0;34m]\u001b[0m\u001b[0;34m\u001b[0m\u001b[0m\n\u001b[1;32m   2480\u001b[0m \u001b[0;34m\u001b[0m\u001b[0m\n",
      "\u001b[0;32m/usr/local/lib/python3.6/site-packages/tensorflow/python/client/session.py\u001b[0m in \u001b[0;36mrun\u001b[0;34m(self, fetches, feed_dict, options, run_metadata)\u001b[0m\n\u001b[1;32m    893\u001b[0m     \u001b[0;32mtry\u001b[0m\u001b[0;34m:\u001b[0m\u001b[0;34m\u001b[0m\u001b[0m\n\u001b[1;32m    894\u001b[0m       result = self._run(None, fetches, feed_dict, options_ptr,\n\u001b[0;32m--> 895\u001b[0;31m                          run_metadata_ptr)\n\u001b[0m\u001b[1;32m    896\u001b[0m       \u001b[0;32mif\u001b[0m \u001b[0mrun_metadata\u001b[0m\u001b[0;34m:\u001b[0m\u001b[0;34m\u001b[0m\u001b[0m\n\u001b[1;32m    897\u001b[0m         \u001b[0mproto_data\u001b[0m \u001b[0;34m=\u001b[0m \u001b[0mtf_session\u001b[0m\u001b[0;34m.\u001b[0m\u001b[0mTF_GetBuffer\u001b[0m\u001b[0;34m(\u001b[0m\u001b[0mrun_metadata_ptr\u001b[0m\u001b[0;34m)\u001b[0m\u001b[0;34m\u001b[0m\u001b[0m\n",
      "\u001b[0;32m/usr/local/lib/python3.6/site-packages/tensorflow/python/client/session.py\u001b[0m in \u001b[0;36m_run\u001b[0;34m(self, handle, fetches, feed_dict, options, run_metadata)\u001b[0m\n\u001b[1;32m   1126\u001b[0m     \u001b[0;32mif\u001b[0m \u001b[0mfinal_fetches\u001b[0m \u001b[0;32mor\u001b[0m \u001b[0mfinal_targets\u001b[0m \u001b[0;32mor\u001b[0m \u001b[0;34m(\u001b[0m\u001b[0mhandle\u001b[0m \u001b[0;32mand\u001b[0m \u001b[0mfeed_dict_tensor\u001b[0m\u001b[0;34m)\u001b[0m\u001b[0;34m:\u001b[0m\u001b[0;34m\u001b[0m\u001b[0m\n\u001b[1;32m   1127\u001b[0m       results = self._do_run(handle, final_targets, final_fetches,\n\u001b[0;32m-> 1128\u001b[0;31m                              feed_dict_tensor, options, run_metadata)\n\u001b[0m\u001b[1;32m   1129\u001b[0m     \u001b[0;32melse\u001b[0m\u001b[0;34m:\u001b[0m\u001b[0;34m\u001b[0m\u001b[0m\n\u001b[1;32m   1130\u001b[0m       \u001b[0mresults\u001b[0m \u001b[0;34m=\u001b[0m \u001b[0;34m[\u001b[0m\u001b[0;34m]\u001b[0m\u001b[0;34m\u001b[0m\u001b[0m\n",
      "\u001b[0;32m/usr/local/lib/python3.6/site-packages/tensorflow/python/client/session.py\u001b[0m in \u001b[0;36m_do_run\u001b[0;34m(self, handle, target_list, fetch_list, feed_dict, options, run_metadata)\u001b[0m\n\u001b[1;32m   1342\u001b[0m     \u001b[0;32mif\u001b[0m \u001b[0mhandle\u001b[0m \u001b[0;32mis\u001b[0m \u001b[0;32mNone\u001b[0m\u001b[0;34m:\u001b[0m\u001b[0;34m\u001b[0m\u001b[0m\n\u001b[1;32m   1343\u001b[0m       return self._do_call(_run_fn, self._session, feeds, fetches, targets,\n\u001b[0;32m-> 1344\u001b[0;31m                            options, run_metadata)\n\u001b[0m\u001b[1;32m   1345\u001b[0m     \u001b[0;32melse\u001b[0m\u001b[0;34m:\u001b[0m\u001b[0;34m\u001b[0m\u001b[0m\n\u001b[1;32m   1346\u001b[0m       \u001b[0;32mreturn\u001b[0m \u001b[0mself\u001b[0m\u001b[0;34m.\u001b[0m\u001b[0m_do_call\u001b[0m\u001b[0;34m(\u001b[0m\u001b[0m_prun_fn\u001b[0m\u001b[0;34m,\u001b[0m \u001b[0mself\u001b[0m\u001b[0;34m.\u001b[0m\u001b[0m_session\u001b[0m\u001b[0;34m,\u001b[0m \u001b[0mhandle\u001b[0m\u001b[0;34m,\u001b[0m \u001b[0mfeeds\u001b[0m\u001b[0;34m,\u001b[0m \u001b[0mfetches\u001b[0m\u001b[0;34m)\u001b[0m\u001b[0;34m\u001b[0m\u001b[0m\n",
      "\u001b[0;32m/usr/local/lib/python3.6/site-packages/tensorflow/python/client/session.py\u001b[0m in \u001b[0;36m_do_call\u001b[0;34m(self, fn, *args)\u001b[0m\n\u001b[1;32m   1348\u001b[0m   \u001b[0;32mdef\u001b[0m \u001b[0m_do_call\u001b[0m\u001b[0;34m(\u001b[0m\u001b[0mself\u001b[0m\u001b[0;34m,\u001b[0m \u001b[0mfn\u001b[0m\u001b[0;34m,\u001b[0m \u001b[0;34m*\u001b[0m\u001b[0margs\u001b[0m\u001b[0;34m)\u001b[0m\u001b[0;34m:\u001b[0m\u001b[0;34m\u001b[0m\u001b[0m\n\u001b[1;32m   1349\u001b[0m     \u001b[0;32mtry\u001b[0m\u001b[0;34m:\u001b[0m\u001b[0;34m\u001b[0m\u001b[0m\n\u001b[0;32m-> 1350\u001b[0;31m       \u001b[0;32mreturn\u001b[0m \u001b[0mfn\u001b[0m\u001b[0;34m(\u001b[0m\u001b[0;34m*\u001b[0m\u001b[0margs\u001b[0m\u001b[0;34m)\u001b[0m\u001b[0;34m\u001b[0m\u001b[0m\n\u001b[0m\u001b[1;32m   1351\u001b[0m     \u001b[0;32mexcept\u001b[0m \u001b[0merrors\u001b[0m\u001b[0;34m.\u001b[0m\u001b[0mOpError\u001b[0m \u001b[0;32mas\u001b[0m \u001b[0me\u001b[0m\u001b[0;34m:\u001b[0m\u001b[0;34m\u001b[0m\u001b[0m\n\u001b[1;32m   1352\u001b[0m       \u001b[0mmessage\u001b[0m \u001b[0;34m=\u001b[0m \u001b[0mcompat\u001b[0m\u001b[0;34m.\u001b[0m\u001b[0mas_text\u001b[0m\u001b[0;34m(\u001b[0m\u001b[0me\u001b[0m\u001b[0;34m.\u001b[0m\u001b[0mmessage\u001b[0m\u001b[0;34m)\u001b[0m\u001b[0;34m\u001b[0m\u001b[0m\n",
      "\u001b[0;32m/usr/local/lib/python3.6/site-packages/tensorflow/python/client/session.py\u001b[0m in \u001b[0;36m_run_fn\u001b[0;34m(session, feed_dict, fetch_list, target_list, options, run_metadata)\u001b[0m\n\u001b[1;32m   1327\u001b[0m           return tf_session.TF_Run(session, options,\n\u001b[1;32m   1328\u001b[0m                                    \u001b[0mfeed_dict\u001b[0m\u001b[0;34m,\u001b[0m \u001b[0mfetch_list\u001b[0m\u001b[0;34m,\u001b[0m \u001b[0mtarget_list\u001b[0m\u001b[0;34m,\u001b[0m\u001b[0;34m\u001b[0m\u001b[0m\n\u001b[0;32m-> 1329\u001b[0;31m                                    status, run_metadata)\n\u001b[0m\u001b[1;32m   1330\u001b[0m \u001b[0;34m\u001b[0m\u001b[0m\n\u001b[1;32m   1331\u001b[0m     \u001b[0;32mdef\u001b[0m \u001b[0m_prun_fn\u001b[0m\u001b[0;34m(\u001b[0m\u001b[0msession\u001b[0m\u001b[0;34m,\u001b[0m \u001b[0mhandle\u001b[0m\u001b[0;34m,\u001b[0m \u001b[0mfeed_dict\u001b[0m\u001b[0;34m,\u001b[0m \u001b[0mfetch_list\u001b[0m\u001b[0;34m)\u001b[0m\u001b[0;34m:\u001b[0m\u001b[0;34m\u001b[0m\u001b[0m\n",
      "\u001b[0;31mKeyboardInterrupt\u001b[0m: "
     ]
    }
   ],
   "source": [
    "model.fit(X_train, y_train, batch_size=128, epochs=400, verbose=1, validation_data=(X_test, y_test))"
   ]
  },
  {
   "cell_type": "code",
   "execution_count": null,
   "metadata": {},
   "outputs": [],
   "source": []
  }
 ],
 "metadata": {
  "kernelspec": {
   "display_name": "Python 3",
   "language": "python",
   "name": "python3"
  },
  "language_info": {
   "codemirror_mode": {
    "name": "ipython",
    "version": 3
   },
   "file_extension": ".py",
   "mimetype": "text/x-python",
   "name": "python",
   "nbconvert_exporter": "python",
   "pygments_lexer": "ipython3",
   "version": "3.6.4"
  }
 },
 "nbformat": 4,
 "nbformat_minor": 2
}
